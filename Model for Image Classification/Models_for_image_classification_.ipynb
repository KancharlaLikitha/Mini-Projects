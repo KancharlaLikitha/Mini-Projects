{
  "cells": [
    {
      "cell_type": "code",
      "execution_count": null,
      "metadata": {
        "id": "FieM-KotBcrV"
      },
      "outputs": [],
      "source": [
        "import tensorflow as tf\n",
        "from tensorflow.keras import datasets,layers, models\n",
        "import matplotlib.pyplot as plt\n",
        "import numpy as np"
      ]
    },
    {
      "cell_type": "code",
      "execution_count": null,
      "metadata": {
        "colab": {
          "base_uri": "https://localhost:8080/"
        },
        "id": "ZU1yTar9Bj0o",
        "outputId": "c2553dac-3265-487d-95ed-2fb5149451e0"
      },
      "outputs": [
        {
          "output_type": "stream",
          "name": "stdout",
          "text": [
            "Downloading data from https://www.cs.toronto.edu/~kriz/cifar-10-python.tar.gz\n",
            "170498071/170498071 [==============================] - 4s 0us/step\n"
          ]
        }
      ],
      "source": [
        "(X_train, y_train), (X_test,y_test) = datasets.cifar10.load_data()"
      ]
    },
    {
      "cell_type": "code",
      "execution_count": null,
      "metadata": {
        "colab": {
          "base_uri": "https://localhost:8080/"
        },
        "id": "9vYJ6yG7B-yh",
        "outputId": "b53f3730-2251-4d23-f607-df96ba882924"
      },
      "outputs": [
        {
          "output_type": "execute_result",
          "data": {
            "text/plain": [
              "(50000, 32, 32, 3)"
            ]
          },
          "metadata": {},
          "execution_count": 3
        }
      ],
      "source": [
        "X_train.shape"
      ]
    },
    {
      "cell_type": "code",
      "execution_count": null,
      "metadata": {
        "colab": {
          "base_uri": "https://localhost:8080/"
        },
        "id": "K1D9ZFrtCCi2",
        "outputId": "04baef88-c2cd-477c-e134-dda0fd8c11d6"
      },
      "outputs": [
        {
          "output_type": "execute_result",
          "data": {
            "text/plain": [
              "(10000, 32, 32, 3)"
            ]
          },
          "metadata": {},
          "execution_count": 4
        }
      ],
      "source": [
        "X_test.shape"
      ]
    },
    {
      "cell_type": "code",
      "execution_count": null,
      "metadata": {
        "colab": {
          "base_uri": "https://localhost:8080/"
        },
        "id": "jcc5Ih9fCGws",
        "outputId": "384f2dfc-5063-4c16-fe65-cee0bb5dd1fb"
      },
      "outputs": [
        {
          "output_type": "execute_result",
          "data": {
            "text/plain": [
              "(50000, 1)"
            ]
          },
          "metadata": {},
          "execution_count": 5
        }
      ],
      "source": [
        "y_train.shape"
      ]
    },
    {
      "cell_type": "code",
      "execution_count": null,
      "metadata": {
        "colab": {
          "base_uri": "https://localhost:8080/"
        },
        "id": "4TtqgdJKCKSl",
        "outputId": "83c34308-806c-4a9a-95d1-3929ee844b16"
      },
      "outputs": [
        {
          "output_type": "execute_result",
          "data": {
            "text/plain": [
              "array([[6],\n",
              "       [9],\n",
              "       [9],\n",
              "       [4],\n",
              "       [1]], dtype=uint8)"
            ]
          },
          "metadata": {},
          "execution_count": 6
        }
      ],
      "source": [
        "y_train[:5]"
      ]
    },
    {
      "cell_type": "code",
      "execution_count": null,
      "metadata": {
        "colab": {
          "base_uri": "https://localhost:8080/"
        },
        "id": "wcVmK8LFCP2F",
        "outputId": "47dec3b2-799c-4a57-b650-261bd6916c3f"
      },
      "outputs": [
        {
          "output_type": "execute_result",
          "data": {
            "text/plain": [
              "array([6, 9, 9, 4, 1], dtype=uint8)"
            ]
          },
          "metadata": {},
          "execution_count": 7
        }
      ],
      "source": [
        "y_train = y_train.reshape(-1,)\n",
        "y_train[:5]\n"
      ]
    },
    {
      "cell_type": "code",
      "execution_count": null,
      "metadata": {
        "id": "wW9Iw2aKC111"
      },
      "outputs": [],
      "source": [
        "classes =[\"airplane\",\"automobile\",\"bird\",\"cat\",\"deer\",\"dog\",\"frog\",\"horse\",\"ship\",\"truck\"]"
      ]
    },
    {
      "cell_type": "code",
      "execution_count": null,
      "metadata": {
        "id": "Blh7b1xCDCft"
      },
      "outputs": [],
      "source": [
        "def plot_sample(X, y, index):\n",
        " plt.figure(figsize = (15,2))\n",
        " plt.imshow(X[index])\n",
        " plt.xlabel(classes[y[index]])"
      ]
    },
    {
      "cell_type": "code",
      "execution_count": null,
      "metadata": {
        "colab": {
          "base_uri": "https://localhost:8080/",
          "height": 173
        },
        "id": "BPfWSrKVDYHF",
        "outputId": "26c22491-12b0-436f-e6dd-077f68769ca8"
      },
      "outputs": [
        {
          "output_type": "display_data",
          "data": {
            "text/plain": [
              "<Figure size 1080x144 with 1 Axes>"
            ],
            "image/png": "[encoded data removed]"
          },
          "metadata": {
            "needs_background": "light"
          }
        }
      ],
      "source": [
        "plot_sample(X_train, y_train, 2)"
      ]
    },
    {
      "cell_type": "code",
      "execution_count": null,
      "metadata": {
        "id": "ievQ3jfGDfD9"
      },
      "outputs": [],
      "source": [
        "X_train = X_train / 255.0\n",
        "X_test = X_test / 255.0"
      ]
    },
    {
      "cell_type": "code",
      "execution_count": null,
      "metadata": {
        "colab": {
          "base_uri": "https://localhost:8080/"
        },
        "id": "9xF5hSyoDlXd",
        "outputId": "fba2b073-acf9-42e7-de8e-d5a28ce52e23"
      },
      "outputs": [
        {
          "output_type": "stream",
          "name": "stdout",
          "text": [
            "Epoch 1/5\n",
            "1563/1563 [==============================] - 107s 68ms/step - loss: 1.8105 - accuracy: 0.3543\n",
            "Epoch 2/5\n",
            "1563/1563 [==============================] - 98s 62ms/step - loss: 1.6233 - accuracy: 0.4267\n",
            "Epoch 3/5\n",
            "1563/1563 [==============================] - 101s 65ms/step - loss: 1.5410 - accuracy: 0.4578\n",
            "Epoch 4/5\n",
            "1563/1563 [==============================] - 97s 62ms/step - loss: 1.4816 - accuracy: 0.4781\n",
            "Epoch 5/5\n",
            "1563/1563 [==============================] - 100s 64ms/step - loss: 1.4318 - accuracy: 0.4968\n"
          ]
        },
        {
          "output_type": "execute_result",
          "data": {
            "text/plain": [
              "<keras.callbacks.History at 0x7fcb9f2ae0a0>"
            ]
          },
          "metadata": {},
          "execution_count": 12
        }
      ],
      "source": [
        "ann = models.Sequential([\n",
        "layers.Flatten(input_shape=(32,32,3)),\n",
        "layers.Dense(3000, activation='relu'),\n",
        "layers.Dense(1000, activation='relu'),\n",
        "layers.Dense(10, activation='softmax')\n",
        "])\n",
        "\n",
        "ann.compile(optimizer='SGD',\n",
        "\n",
        "loss='sparse_categorical_crossentropy',\n",
        "metrics=['accuracy'])\n",
        "\n",
        "ann.fit(X_train, y_train, epochs=5)"
      ]
    },
    {
      "cell_type": "code",
      "source": [
        "from sklearn.metrics import confusion_matrix , classification_report\n",
        "import numpy as np\n",
        "y_pred = ann.predict(X_test)\n",
        "y_pred_classes = [np.argmax(element) for element in y_pred]\n",
        "\n",
        "print(\"Classification Report: \\n\", classification_report(y_test,\n",
        "y_pred_classes))"
      ],
      "metadata": {
        "colab": {
          "base_uri": "https://localhost:8080/"
        },
        "id": "KO3vY-304neG",
        "outputId": "08b9aa71-6a3e-41b0-de77-b63ef8ca2f0e"
      },
      "execution_count": null,
      "outputs": [
        {
          "output_type": "stream",
          "name": "stdout",
          "text": [
            "313/313 [==============================] - 8s 25ms/step\n",
            "Classification Report: \n",
            "               precision    recall  f1-score   support\n",
            "\n",
            "           0       0.65      0.43      0.51      1000\n",
            "           1       0.65      0.60      0.62      1000\n",
            "           2       0.39      0.30      0.34      1000\n",
            "           3       0.30      0.54      0.39      1000\n",
            "           4       0.32      0.57      0.41      1000\n",
            "           5       0.59      0.17      0.26      1000\n",
            "           6       0.48      0.63      0.55      1000\n",
            "           7       0.50      0.54      0.52      1000\n",
            "           8       0.65      0.57      0.61      1000\n",
            "           9       0.72      0.36      0.48      1000\n",
            "\n",
            "    accuracy                           0.47     10000\n",
            "   macro avg       0.52      0.47      0.47     10000\n",
            "weighted avg       0.52      0.47      0.47     10000\n",
            "\n"
          ]
        }
      ]
    },
    {
      "cell_type": "code",
      "source": [
        "cnn = models.Sequential([\n",
        "layers.Conv2D(filters=32, kernel_size=(3, 3), activation='relu',\n",
        "input_shape=(32, 32, 3)),\n",
        "layers.MaxPooling2D((2, 2)),\n",
        "\n",
        "layers.Conv2D(filters=64, kernel_size=(3, 3), activation='relu'),\n",
        "layers.MaxPooling2D((2, 2)),layers.Flatten(),\n",
        "layers.Dense(64, activation='relu'),\n",
        "layers.Dense(10, activation='softmax')\n",
        "])"
      ],
      "metadata": {
        "id": "1HYEWKpb5uct"
      },
      "execution_count": null,
      "outputs": []
    },
    {
      "cell_type": "code",
      "source": [
        "cnn.compile(optimizer='adam',\n",
        "\n",
        "loss='sparse_categorical_crossentropy',\n",
        "metrics=['accuracy'])"
      ],
      "metadata": {
        "id": "0I3knak57QAM"
      },
      "execution_count": null,
      "outputs": []
    },
    {
      "cell_type": "code",
      "source": [
        "cnn.fit(X_train, y_train, epochs=10)"
      ],
      "metadata": {
        "colab": {
          "base_uri": "https://localhost:8080/"
        },
        "id": "dKhJWpJd7UFt",
        "outputId": "8174ab0c-f3bc-4d83-ce50-1b6cd3bb3c4f"
      },
      "execution_count": null,
      "outputs": [
        {
          "output_type": "stream",
          "name": "stdout",
          "text": [
            "Epoch 1/10\n",
            "1563/1563 [==============================] - 67s 42ms/step - loss: 1.4745 - accuracy: 0.4688\n",
            "Epoch 2/10\n",
            "1563/1563 [==============================] - 65s 41ms/step - loss: 1.1353 - accuracy: 0.6029\n",
            "Epoch 3/10\n",
            "1563/1563 [==============================] - 64s 41ms/step - loss: 1.0034 - accuracy: 0.6507\n",
            "Epoch 4/10\n",
            "1563/1563 [==============================] - 64s 41ms/step - loss: 0.9140 - accuracy: 0.6825\n",
            "Epoch 5/10\n",
            "1563/1563 [==============================] - 65s 42ms/step - loss: 0.8424 - accuracy: 0.7082\n",
            "Epoch 6/10\n",
            "1563/1563 [==============================] - 64s 41ms/step - loss: 0.7932 - accuracy: 0.7234\n",
            "Epoch 7/10\n",
            "1563/1563 [==============================] - 67s 43ms/step - loss: 0.7485 - accuracy: 0.7413\n",
            "Epoch 8/10\n",
            "1563/1563 [==============================] - 65s 42ms/step - loss: 0.7090 - accuracy: 0.7536\n",
            "Epoch 9/10\n",
            "1563/1563 [==============================] - 64s 41ms/step - loss: 0.6756 - accuracy: 0.7646\n",
            "Epoch 10/10\n",
            "1563/1563 [==============================] - 64s 41ms/step - loss: 0.6453 - accuracy: 0.7741\n"
          ]
        },
        {
          "output_type": "execute_result",
          "data": {
            "text/plain": [
              "<keras.callbacks.History at 0x7fcb9c8d8790>"
            ]
          },
          "metadata": {},
          "execution_count": 16
        }
      ]
    },
    {
      "cell_type": "code",
      "source": [
        "cnn.evaluate(X_test,y_test)"
      ],
      "metadata": {
        "colab": {
          "base_uri": "https://localhost:8080/"
        },
        "id": "Ql0QcS2q7kz8",
        "outputId": "dfdce5ca-7ba1-42ee-f174-88a8ed2a7adb"
      },
      "execution_count": null,
      "outputs": [
        {
          "output_type": "stream",
          "name": "stdout",
          "text": [
            "313/313 [==============================] - 4s 13ms/step - loss: 0.9655 - accuracy: 0.6868\n"
          ]
        },
        {
          "output_type": "execute_result",
          "data": {
            "text/plain": [
              "[0.9655106663703918, 0.6868000030517578]"
            ]
          },
          "metadata": {},
          "execution_count": 17
        }
      ]
    },
    {
      "cell_type": "code",
      "source": [
        "y_pred = cnn.predict(X_test)\n",
        "y_pred[:5]"
      ],
      "metadata": {
        "colab": {
          "base_uri": "https://localhost:8080/"
        },
        "id": "RlZFyirz7rCN",
        "outputId": "f590cadc-c914-44dc-ba1a-c6c0eefd0612"
      },
      "execution_count": null,
      "outputs": [
        {
          "output_type": "stream",
          "name": "stdout",
          "text": [
            "313/313 [==============================] - 4s 13ms/step\n"
          ]
        },
        {
          "output_type": "execute_result",
          "data": {
            "text/plain": [
              "array([[7.7771354e-03, 1.3254534e-03, 2.7831158e-04, 8.8828099e-01,\n",
              "        1.3240081e-03, 2.8667832e-02, 3.6745206e-02, 2.5676775e-06,\n",
              "        3.5580937e-02, 1.7501166e-05],\n",
              "       [2.5644380e-01, 4.4131339e-02, 1.9971347e-05, 1.4892187e-07,\n",
              "        8.2241947e-09, 1.6792709e-10, 1.8030358e-09, 1.3428531e-08,\n",
              "        6.9837940e-01, 1.0253433e-03],\n",
              "       [4.3650367e-03, 1.0719388e-02, 6.1199936e-04, 1.0269549e-03,\n",
              "        1.5127150e-05, 4.8527536e-06, 2.8327346e-05, 2.8946806e-05,\n",
              "        9.7858757e-01, 4.6118069e-03],\n",
              "       [8.1055653e-01, 3.2999078e-03, 3.6903169e-02, 1.7421037e-02,\n",
              "        5.5122644e-05, 5.0687249e-05, 1.3672748e-04, 5.7591428e-06,\n",
              "        1.2994388e-01, 1.6272902e-03],\n",
              "       [4.7976723e-06, 2.0628107e-05, 6.7204884e-03, 6.1842144e-02,\n",
              "        2.1351804e-01, 7.8536905e-03, 7.1003294e-01, 2.7448173e-06,\n",
              "        1.7311180e-06, 2.7344552e-06]], dtype=float32)"
            ]
          },
          "metadata": {},
          "execution_count": 19
        }
      ]
    },
    {
      "cell_type": "code",
      "source": [
        "y_classes = [np.argmax(element) for element in y_pred]\n",
        "y_classes[:5]"
      ],
      "metadata": {
        "colab": {
          "base_uri": "https://localhost:8080/"
        },
        "id": "-JmM3fd57wcM",
        "outputId": "1afd746d-6921-4b2c-ec1e-1b48ea12f261"
      },
      "execution_count": null,
      "outputs": [
        {
          "output_type": "execute_result",
          "data": {
            "text/plain": [
              "[3, 8, 8, 4, 4]"
            ]
          },
          "metadata": {},
          "execution_count": 18
        }
      ]
    },
    {
      "cell_type": "code",
      "source": [
        "y_test[:5]"
      ],
      "metadata": {
        "colab": {
          "base_uri": "https://localhost:8080/"
        },
        "id": "XhQRS3BG71IU",
        "outputId": "27c1f6aa-47dc-4ba4-aaf5-6aef5dbf63a5"
      },
      "execution_count": null,
      "outputs": [
        {
          "output_type": "execute_result",
          "data": {
            "text/plain": [
              "array([[3],\n",
              "       [8],\n",
              "       [8],\n",
              "       [0],\n",
              "       [6]], dtype=uint8)"
            ]
          },
          "metadata": {},
          "execution_count": 19
        }
      ]
    },
    {
      "cell_type": "code",
      "source": [
        "y_test = y_test.reshape(-1,)\n",
        "y_test"
      ],
      "metadata": {
        "colab": {
          "base_uri": "https://localhost:8080/"
        },
        "id": "CcmXmKt674-0",
        "outputId": "c7b7f7aa-b60d-4c4c-c979-fbfe13e02d5a"
      },
      "execution_count": null,
      "outputs": [
        {
          "output_type": "execute_result",
          "data": {
            "text/plain": [
              "array([3, 8, 8, ..., 5, 1, 7], dtype=uint8)"
            ]
          },
          "metadata": {},
          "execution_count": 20
        }
      ]
    },
    {
      "cell_type": "code",
      "source": [
        "plot_sample(X_test, y_test,137)"
      ],
      "metadata": {
        "colab": {
          "base_uri": "https://localhost:8080/",
          "height": 173
        },
        "id": "WnKFVZ2M78pr",
        "outputId": "281e0319-6178-4869-eb7a-66fc6093eece"
      },
      "execution_count": null,
      "outputs": [
        {
          "output_type": "display_data",
          "data": {
            "text/plain": [
              "<Figure size 1080x144 with 1 Axes>"
            ],
            "image/png": "[encoded data removed]"
          },
          "metadata": {
            "needs_background": "light"
          }
        }
      ]
    },
    {
      "cell_type": "code",
      "source": [
        "classes[y_classes[137]]"
      ],
      "metadata": {
        "colab": {
          "base_uri": "https://localhost:8080/",
          "height": 35
        },
        "id": "MYToLR4p8A9M",
        "outputId": "58d010e9-e042-4d8b-eb56-f4520575a143"
      },
      "execution_count": null,
      "outputs": [
        {
          "output_type": "execute_result",
          "data": {
            "text/plain": [
              "'horse'"
            ],
            "application/vnd.google.colaboratory.intrinsic+json": {
              "type": "string"
            }
          },
          "metadata": {},
          "execution_count": 22
        }
      ]
    }
  ],
  "metadata": {
    "colab": {
      "provenance": []
    },
    "kernelspec": {
      "display_name": "Python 3",
      "name": "python3"
    },
    "language_info": {
      "name": "python"
    }
  },
  "nbformat": 4,
  "nbformat_minor": 0
}