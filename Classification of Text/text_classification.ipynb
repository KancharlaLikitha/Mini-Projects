{
  "cells": [
    {
      "cell_type": "code",
      "execution_count": null,
      "id": "799a3d4a",
      "metadata": {
        "execution": {
          "iopub.execute_input": "2021-11-09T00:09:34.560082Z",
          "iopub.status.busy": "2021-11-09T00:09:34.559101Z",
          "iopub.status.idle": "2021-11-09T00:09:34.621970Z",
          "shell.execute_reply": "2021-11-09T00:09:34.622502Z"
        },
        "papermill": {
          "duration": 0.085805,
          "end_time": "2021-11-09T00:09:34.622786",
          "exception": false,
          "start_time": "2021-11-09T00:09:34.536981",
          "status": "completed"
        },
        "tags": [],
        "id": "799a3d4a",
        "outputId": "c323b79f-4c4f-42a8-d299-8fff47c168ad"
      },
      "outputs": [
        {
          "data": {
            "text/html": [
              "<div>\n",
              "<style scoped>\n",
              "    .dataframe tbody tr th:only-of-type {\n",
              "        vertical-align: middle;\n",
              "    }\n",
              "\n",
              "    .dataframe tbody tr th {\n",
              "        vertical-align: top;\n",
              "    }\n",
              "\n",
              "    .dataframe thead th {\n",
              "        text-align: right;\n",
              "    }\n",
              "</style>\n",
              "<table border=\"1\" class=\"dataframe\">\n",
              "  <thead>\n",
              "    <tr style=\"text-align: right;\">\n",
              "      <th></th>\n",
              "      <th>label</th>\n",
              "      <th>text</th>\n",
              "    </tr>\n",
              "  </thead>\n",
              "  <tbody>\n",
              "    <tr>\n",
              "      <th>0</th>\n",
              "      <td>ham</td>\n",
              "      <td>Go until jurong point, crazy.. Available only ...</td>\n",
              "    </tr>\n",
              "    <tr>\n",
              "      <th>1</th>\n",
              "      <td>ham</td>\n",
              "      <td>Ok lar... Joking wif u oni...</td>\n",
              "    </tr>\n",
              "    <tr>\n",
              "      <th>2</th>\n",
              "      <td>spam</td>\n",
              "      <td>Free entry in 2 a wkly comp to win FA Cup fina...</td>\n",
              "    </tr>\n",
              "    <tr>\n",
              "      <th>3</th>\n",
              "      <td>ham</td>\n",
              "      <td>U dun say so early hor... U c already then say...</td>\n",
              "    </tr>\n",
              "    <tr>\n",
              "      <th>4</th>\n",
              "      <td>ham</td>\n",
              "      <td>Nah I don't think he goes to usf, he lives aro...</td>\n",
              "    </tr>\n",
              "    <tr>\n",
              "      <th>5</th>\n",
              "      <td>spam</td>\n",
              "      <td>FreeMsg Hey there darling it's been 3 week's n...</td>\n",
              "    </tr>\n",
              "    <tr>\n",
              "      <th>6</th>\n",
              "      <td>ham</td>\n",
              "      <td>Even my brother is not like to speak with me. ...</td>\n",
              "    </tr>\n",
              "    <tr>\n",
              "      <th>7</th>\n",
              "      <td>ham</td>\n",
              "      <td>As per your request 'Melle Melle (Oru Minnamin...</td>\n",
              "    </tr>\n",
              "    <tr>\n",
              "      <th>8</th>\n",
              "      <td>spam</td>\n",
              "      <td>WINNER!! As a valued network customer you have...</td>\n",
              "    </tr>\n",
              "    <tr>\n",
              "      <th>9</th>\n",
              "      <td>spam</td>\n",
              "      <td>Had your mobile 11 months or more? U R entitle...</td>\n",
              "    </tr>\n",
              "  </tbody>\n",
              "</table>\n",
              "</div>"
            ],
            "text/plain": [
              "  label                                               text\n",
              "0   ham  Go until jurong point, crazy.. Available only ...\n",
              "1   ham                      Ok lar... Joking wif u oni...\n",
              "2  spam  Free entry in 2 a wkly comp to win FA Cup fina...\n",
              "3   ham  U dun say so early hor... U c already then say...\n",
              "4   ham  Nah I don't think he goes to usf, he lives aro...\n",
              "5  spam  FreeMsg Hey there darling it's been 3 week's n...\n",
              "6   ham  Even my brother is not like to speak with me. ...\n",
              "7   ham  As per your request 'Melle Melle (Oru Minnamin...\n",
              "8  spam  WINNER!! As a valued network customer you have...\n",
              "9  spam  Had your mobile 11 months or more? U R entitle..."
            ]
          },
          "execution_count": 1,
          "metadata": {},
          "output_type": "execute_result"
        }
      ],
      "source": [
        "import pandas as pd\n",
        "\n",
        "# Loading the spam data\n",
        "# ham is the label for non-spam messages\n",
        "spam = pd.read_csv('../input/nlp-course/spam.csv')\n",
        "spam.head(10)"
      ]
    },
    {
      "cell_type": "code",
      "execution_count": null,
      "id": "90838993",
      "metadata": {
        "execution": {
          "iopub.execute_input": "2021-11-09T00:09:34.716593Z",
          "iopub.status.busy": "2021-11-09T00:09:34.715510Z",
          "iopub.status.idle": "2021-11-09T00:09:45.550712Z",
          "shell.execute_reply": "2021-11-09T00:09:45.551275Z"
        },
        "papermill": {
          "duration": 10.854553,
          "end_time": "2021-11-09T00:09:45.551451",
          "exception": false,
          "start_time": "2021-11-09T00:09:34.696898",
          "status": "completed"
        },
        "tags": [],
        "id": "90838993"
      },
      "outputs": [],
      "source": [
        "import spacy\n",
        "\n",
        "# Create an empty model\n",
        "nlp = spacy.blank(\"en\")\n",
        "\n",
        "# Add the TextCategorizer to the empty model\n",
        "textcat = nlp.add_pipe(\"textcat\")"
      ]
    },
    {
      "cell_type": "code",
      "execution_count": null,
      "id": "0e39a7b8",
      "metadata": {
        "execution": {
          "iopub.execute_input": "2021-11-09T00:09:45.612754Z",
          "iopub.status.busy": "2021-11-09T00:09:45.611772Z",
          "iopub.status.idle": "2021-11-09T00:09:45.618346Z",
          "shell.execute_reply": "2021-11-09T00:09:45.617836Z"
        },
        "papermill": {
          "duration": 0.024073,
          "end_time": "2021-11-09T00:09:45.618488",
          "exception": false,
          "start_time": "2021-11-09T00:09:45.594415",
          "status": "completed"
        },
        "tags": [],
        "id": "0e39a7b8",
        "outputId": "5b447856-9401-4ac9-fce0-c099e3f52b93"
      },
      "outputs": [
        {
          "data": {
            "text/plain": [
              "1"
            ]
          },
          "execution_count": 3,
          "metadata": {},
          "output_type": "execute_result"
        }
      ],
      "source": [
        "# Add labels to text classifier\n",
        "textcat.add_label(\"ham\")\n",
        "textcat.add_label(\"spam\")"
      ]
    },
    {
      "cell_type": "code",
      "execution_count": null,
      "id": "46883d1c",
      "metadata": {
        "execution": {
          "iopub.execute_input": "2021-11-09T00:09:45.681531Z",
          "iopub.status.busy": "2021-11-09T00:09:45.680520Z",
          "iopub.status.idle": "2021-11-09T00:09:45.694989Z",
          "shell.execute_reply": "2021-11-09T00:09:45.695575Z"
        },
        "papermill": {
          "duration": 0.032987,
          "end_time": "2021-11-09T00:09:45.695749",
          "exception": false,
          "start_time": "2021-11-09T00:09:45.662762",
          "status": "completed"
        },
        "tags": [],
        "id": "46883d1c"
      },
      "outputs": [],
      "source": [
        "train_texts = spam['text'].values\n",
        "train_labels = [{'cats': {'ham': label == 'ham',\n",
        "                          'spam': label == 'spam'}}\n",
        "                for label in spam['label']]"
      ]
    },
    {
      "cell_type": "code",
      "execution_count": null,
      "id": "8a61ff76",
      "metadata": {
        "execution": {
          "iopub.execute_input": "2021-11-09T00:09:45.762339Z",
          "iopub.status.busy": "2021-11-09T00:09:45.761084Z",
          "iopub.status.idle": "2021-11-09T00:09:45.770293Z",
          "shell.execute_reply": "2021-11-09T00:09:45.770879Z"
        },
        "papermill": {
          "duration": 0.028358,
          "end_time": "2021-11-09T00:09:45.771058",
          "exception": false,
          "start_time": "2021-11-09T00:09:45.742700",
          "status": "completed"
        },
        "tags": [],
        "id": "8a61ff76",
        "outputId": "ef63f803-5c45-4c1c-c8d8-48f6aadd49f5"
      },
      "outputs": [
        {
          "data": {
            "text/plain": [
              "[('Go until jurong point, crazy.. Available only in bugis n great world la e buffet... Cine there got amore wat...',\n",
              "  {'cats': {'ham': True, 'spam': False}}),\n",
              " ('Ok lar... Joking wif u oni...', {'cats': {'ham': True, 'spam': False}}),\n",
              " (\"Free entry in 2 a wkly comp to win FA Cup final tkts 21st May 2005. Text FA to 87121 to receive entry question(std txt rate)T&C's apply 08452810075over18's\",\n",
              "  {'cats': {'ham': False, 'spam': True}})]"
            ]
          },
          "execution_count": 5,
          "metadata": {},
          "output_type": "execute_result"
        }
      ],
      "source": [
        "train_data = list(zip(train_texts, train_labels))\n",
        "train_data[:3]"
      ]
    },
    {
      "cell_type": "code",
      "execution_count": null,
      "id": "6ba132a4",
      "metadata": {
        "execution": {
          "iopub.execute_input": "2021-11-09T00:09:45.837342Z",
          "iopub.status.busy": "2021-11-09T00:09:45.836308Z",
          "iopub.status.idle": "2021-11-09T00:11:14.644951Z",
          "shell.execute_reply": "2021-11-09T00:11:14.645508Z"
        },
        "papermill": {
          "duration": 88.827873,
          "end_time": "2021-11-09T00:11:14.645715",
          "exception": false,
          "start_time": "2021-11-09T00:09:45.817842",
          "status": "completed"
        },
        "tags": [],
        "id": "6ba132a4",
        "outputId": "2f790bec-1183-460b-e51e-a6dd81c609b8"
      },
      "outputs": [
        {
          "name": "stderr",
          "output_type": "stream",
          "text": [
            "[2021-11-09 00:09:45,848] [INFO] Created vocabulary\n",
            "[2021-11-09 00:09:45,851] [INFO] Finished initializing nlp object\n"
          ]
        }
      ],
      "source": [
        "from spacy.util import minibatch\n",
        "from spacy.training.example import Example\n",
        "\n",
        "spacy.util.fix_random_seed(1)\n",
        "optimizer = nlp.begin_training()\n",
        "\n",
        "# Create the batch generator with batch size = 8\n",
        "batches = minibatch(train_data, size=8)\n",
        "# Iterate through minibatches\n",
        "for batch in batches:\n",
        "    # Each batch is a list of (text, label)\n",
        "    for text, labels in batch:\n",
        "        doc = nlp.make_doc(text)\n",
        "        example = Example.from_dict(doc, labels)\n",
        "        nlp.update([example], sgd=optimizer)"
      ]
    },
    {
      "cell_type": "code",
      "execution_count": null,
      "id": "7ec7db6e",
      "metadata": {
        "execution": {
          "iopub.execute_input": "2021-11-09T00:11:14.720779Z",
          "iopub.status.busy": "2021-11-09T00:11:14.720085Z",
          "iopub.status.idle": "2021-11-09T00:26:17.843137Z",
          "shell.execute_reply": "2021-11-09T00:26:17.843736Z"
        },
        "papermill": {
          "duration": 903.148076,
          "end_time": "2021-11-09T00:26:17.844005",
          "exception": false,
          "start_time": "2021-11-09T00:11:14.695929",
          "status": "completed"
        },
        "tags": [],
        "id": "7ec7db6e",
        "outputId": "cebc3570-58df-44f5-b1f1-8700169e1563"
      },
      "outputs": [
        {
          "name": "stderr",
          "output_type": "stream",
          "text": [
            "[2021-11-09 00:11:14,725] [INFO] Created vocabulary\n",
            "[2021-11-09 00:11:14,727] [INFO] Finished initializing nlp object\n"
          ]
        },
        {
          "name": "stdout",
          "output_type": "stream",
          "text": [
            "{'textcat': 295.4672533843209}\n",
            "{'textcat': 425.752376811059}\n",
            "{'textcat': 513.7496465552074}\n",
            "{'textcat': 574.2658501816283}\n",
            "{'textcat': 613.3640732933637}\n",
            "{'textcat': 641.618051840942}\n",
            "{'textcat': 659.7342690400167}\n",
            "{'textcat': 675.2031333876475}\n",
            "{'textcat': 691.1385658034444}\n",
            "{'textcat': 708.4780089379459}\n"
          ]
        }
      ],
      "source": [
        "import random\n",
        "\n",
        "random.seed(1)\n",
        "spacy.util.fix_random_seed(1)\n",
        "optimizer = nlp.begin_training()\n",
        "\n",
        "losses = {}\n",
        "for epoch in range(10):\n",
        "    random.shuffle(train_data)\n",
        "    # Create the batch generator with batch size = 8\n",
        "    batches = minibatch(train_data, size=8)\n",
        "    # Iterate through minibatches\n",
        "    for batch in batches:\n",
        "        for text, labels in batch:\n",
        "            doc = nlp.make_doc(text)\n",
        "            example = Example.from_dict(doc, labels)\n",
        "            nlp.update([example], sgd=optimizer, losses=losses)\n",
        "    print(losses)"
      ]
    },
    {
      "cell_type": "code",
      "execution_count": null,
      "id": "8de07adf",
      "metadata": {
        "execution": {
          "iopub.execute_input": "2021-11-09T00:26:17.980097Z",
          "iopub.status.busy": "2021-11-09T00:26:17.978749Z",
          "iopub.status.idle": "2021-11-09T00:26:17.986467Z",
          "shell.execute_reply": "2021-11-09T00:26:17.987089Z"
        },
        "papermill": {
          "duration": 0.041248,
          "end_time": "2021-11-09T00:26:17.987261",
          "exception": false,
          "start_time": "2021-11-09T00:26:17.946013",
          "status": "completed"
        },
        "tags": [],
        "id": "8de07adf",
        "outputId": "85e9ced8-289d-4680-e25d-f3275c4bb2ad"
      },
      "outputs": [
        {
          "name": "stdout",
          "output_type": "stream",
          "text": [
            "[[9.9999440e-01 5.5444802e-06]\n",
            " [1.6431263e-04 9.9983561e-01]]\n"
          ]
        }
      ],
      "source": [
        "texts = [\"Are you ready for the tea party????? It's gonna be wild\",\n",
        "         \"URGENT Reply to this message for GUARANTEED FREE TEA\" ]\n",
        "docs = [nlp.tokenizer(text) for text in texts]\n",
        "\n",
        "# Use textcat to get the scores for each doc\n",
        "textcat = nlp.get_pipe('textcat')\n",
        "scores = textcat.predict(docs)\n",
        "\n",
        "print(scores)"
      ]
    },
    {
      "cell_type": "code",
      "execution_count": null,
      "id": "4a4fac77",
      "metadata": {
        "execution": {
          "iopub.execute_input": "2021-11-09T00:26:18.073895Z",
          "iopub.status.busy": "2021-11-09T00:26:18.072935Z",
          "iopub.status.idle": "2021-11-09T00:26:18.078477Z",
          "shell.execute_reply": "2021-11-09T00:26:18.079026Z"
        },
        "papermill": {
          "duration": 0.029632,
          "end_time": "2021-11-09T00:26:18.079196",
          "exception": false,
          "start_time": "2021-11-09T00:26:18.049564",
          "status": "completed"
        },
        "tags": [],
        "id": "4a4fac77",
        "outputId": "00f44b64-c68b-401e-cdb1-0b14e2be9fe7"
      },
      "outputs": [
        {
          "name": "stdout",
          "output_type": "stream",
          "text": [
            "['ham', 'spam']\n"
          ]
        }
      ],
      "source": [
        "# From the scores, find the label with the highest score/probability\n",
        "predicted_labels = scores.argmax(axis=1)\n",
        "print([textcat.labels[label] for label in predicted_labels])"
      ]
    }
  ],
  "metadata": {
    "kernelspec": {
      "display_name": "Python 3",
      "language": "python",
      "name": "python3"
    },
    "language_info": {
      "codemirror_mode": {
        "name": "ipython",
        "version": 3
      },
      "file_extension": ".py",
      "mimetype": "text/x-python",
      "name": "python",
      "nbconvert_exporter": "python",
      "pygments_lexer": "ipython3",
      "version": "3.7.10"
    },
    "papermill": {
      "default_parameters": {},
      "duration": 1017.28692,
      "end_time": "2021-11-09T00:26:21.794560",
      "environment_variables": {},
      "exception": null,
      "input_path": "__notebook__.ipynb",
      "output_path": "__notebook__.ipynb",
      "parameters": {},
      "start_time": "2021-11-09T00:09:24.507640",
      "version": "2.3.3"
    },
    "colab": {
      "provenance": []
    }
  },
  "nbformat": 4,
  "nbformat_minor": 5
}
